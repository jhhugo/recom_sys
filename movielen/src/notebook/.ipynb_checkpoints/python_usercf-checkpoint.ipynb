{
 "cells": [
  {
   "cell_type": "code",
   "execution_count": 3,
   "metadata": {},
   "outputs": [
    {
     "name": "stdout",
     "output_type": "stream",
     "text": [
      "cost time 15.289420514416667 min\n"
     ]
    }
   ],
   "source": [
    "from collections import defaultdict\n",
    "import time\n",
    "import gc\n",
    "import pandas as pd\n",
    "\n",
    "item_users = dict()\n",
    "users = set()\n",
    "\n",
    "s = time.perf_counter()\n",
    "\n",
    "for data in pd.read_csv(r'D:\\Users\\hao.guo\\比赛代码提炼\\推荐系统\\movielen\\ml-20m\\ratings.csv', chunksize=10000):\n",
    "    data['userId'] = 'user_' + data['userId'].astype(str)\n",
    "    data['movieId'] = 'movie_' + data['movieId'].astype(str)\n",
    "    for u, item in data[['userId', 'movieId']].values:\n",
    "        item_users.setdefault(item, set()).add(u)\n",
    "        users.add(u)\n",
    "    del data\n",
    "    gc.collect()\n",
    "print('cost time %s min' % ((time.perf_counter() - s) / 60))"
   ]
  },
  {
   "cell_type": "code",
   "execution_count": 20,
   "metadata": {},
   "outputs": [
    {
     "data": {
      "text/plain": [
       "['D:\\\\Users\\\\hao.guo\\\\比赛代码提炼\\\\推荐系统\\\\movielen\\\\data\\\\users.pkl']"
      ]
     },
     "execution_count": 20,
     "metadata": {},
     "output_type": "execute_result"
    }
   ],
   "source": [
    "# from joblib import dump, load\n",
    "# dump(item_users, r'D:\\Users\\hao.guo\\比赛代码提炼\\推荐系统\\movielen\\data\\item_users.pkl')\n",
    "# dump(users, r'D:\\Users\\hao.guo\\比赛代码提炼\\推荐系统\\movielen\\data\\users.pkl')"
   ]
  },
  {
   "cell_type": "code",
   "execution_count": 18,
   "metadata": {},
   "outputs": [
    {
     "name": "stdout",
     "output_type": "stream",
     "text": [
      "共现矩阵计算\n"
     ]
    },
    {
     "data": {
      "application/vnd.jupyter.widget-view+json": {
       "model_id": "6d2247c916554abf8c33414af510d1ca",
       "version_major": 2,
       "version_minor": 0
      },
      "text/plain": [
       "HBox(children=(IntProgress(value=0, max=26744), HTML(value='')))"
      ]
     },
     "metadata": {},
     "output_type": "display_data"
    },
    {
     "ename": "KeyboardInterrupt",
     "evalue": "",
     "output_type": "error",
     "traceback": [
      "\u001b[1;31m---------------------------------------------------------------------------\u001b[0m",
      "\u001b[1;31mKeyboardInterrupt\u001b[0m                         Traceback (most recent call last)",
      "\u001b[1;32m<ipython-input-18-b93e2a803887>\u001b[0m in \u001b[0;36m<module>\u001b[1;34m\u001b[0m\n\u001b[0;32m     34\u001b[0m     \u001b[1;32mreturn\u001b[0m \u001b[0mW\u001b[0m\u001b[1;33m\u001b[0m\u001b[1;33m\u001b[0m\u001b[0m\n\u001b[0;32m     35\u001b[0m \u001b[0ms\u001b[0m \u001b[1;33m=\u001b[0m \u001b[0mtime\u001b[0m\u001b[1;33m.\u001b[0m\u001b[0mperf_counter\u001b[0m\u001b[1;33m(\u001b[0m\u001b[1;33m)\u001b[0m\u001b[1;33m\u001b[0m\u001b[1;33m\u001b[0m\u001b[0m\n\u001b[1;32m---> 36\u001b[1;33m \u001b[0mW\u001b[0m \u001b[1;33m=\u001b[0m \u001b[0mUserSimilarity\u001b[0m\u001b[1;33m(\u001b[0m\u001b[0mitem_users\u001b[0m\u001b[1;33m,\u001b[0m \u001b[0musers\u001b[0m\u001b[1;33m)\u001b[0m\u001b[1;33m\u001b[0m\u001b[1;33m\u001b[0m\u001b[0m\n\u001b[0m\u001b[0;32m     37\u001b[0m \u001b[0mprint\u001b[0m\u001b[1;33m(\u001b[0m\u001b[1;34m'cost time %s min'\u001b[0m \u001b[1;33m%\u001b[0m \u001b[1;33m(\u001b[0m\u001b[1;33m(\u001b[0m\u001b[0mtime\u001b[0m\u001b[1;33m.\u001b[0m\u001b[0mperf_counter\u001b[0m\u001b[1;33m(\u001b[0m\u001b[1;33m)\u001b[0m \u001b[1;33m-\u001b[0m \u001b[0ms\u001b[0m\u001b[1;33m)\u001b[0m \u001b[1;33m/\u001b[0m \u001b[1;36m60\u001b[0m\u001b[1;33m)\u001b[0m\u001b[1;33m)\u001b[0m\u001b[1;33m\u001b[0m\u001b[1;33m\u001b[0m\u001b[0m\n",
      "\u001b[1;32m<ipython-input-18-b93e2a803887>\u001b[0m in \u001b[0;36mUserSimilarity\u001b[1;34m(item_users, users)\u001b[0m\n\u001b[0;32m     25\u001b[0m                 \u001b[1;32mif\u001b[0m \u001b[0mu\u001b[0m \u001b[1;33m==\u001b[0m \u001b[0mv\u001b[0m\u001b[1;33m:\u001b[0m\u001b[1;33m\u001b[0m\u001b[1;33m\u001b[0m\u001b[0m\n\u001b[0;32m     26\u001b[0m                     \u001b[1;32mcontinue\u001b[0m\u001b[1;33m\u001b[0m\u001b[1;33m\u001b[0m\u001b[0m\n\u001b[1;32m---> 27\u001b[1;33m                 \u001b[0mC\u001b[0m\u001b[1;33m[\u001b[0m\u001b[0mu\u001b[0m\u001b[1;33m]\u001b[0m\u001b[1;33m[\u001b[0m\u001b[0mv\u001b[0m\u001b[1;33m]\u001b[0m \u001b[1;33m+=\u001b[0m \u001b[1;36m1\u001b[0m\u001b[1;33m\u001b[0m\u001b[1;33m\u001b[0m\u001b[0m\n\u001b[0m\u001b[0;32m     28\u001b[0m     \u001b[1;31m#calculate finial similarity matrix W\u001b[0m\u001b[1;33m\u001b[0m\u001b[1;33m\u001b[0m\u001b[1;33m\u001b[0m\u001b[0m\n\u001b[0;32m     29\u001b[0m     \u001b[0mW\u001b[0m \u001b[1;33m=\u001b[0m \u001b[0mdict\u001b[0m\u001b[1;33m(\u001b[0m\u001b[1;33m)\u001b[0m\u001b[1;33m\u001b[0m\u001b[1;33m\u001b[0m\u001b[0m\n",
      "\u001b[1;31mKeyboardInterrupt\u001b[0m: "
     ]
    }
   ],
   "source": [
    "import math\n",
    "from tqdm import tqdm_notebook\n",
    "def UserSimilarity(item_users, users):\n",
    "    # build inverse table for item_users\n",
    "#     item_users = dict()\n",
    "#     users = set()\n",
    "#     for u, items in data.items():\n",
    "#         for i in items.keys():\n",
    "#             # if i not in item_users:\n",
    "#             #     item_users[i] = set()\n",
    "#             item_users.setdefault(i, set()).add(u)\n",
    "#         users.add(u)\n",
    "    #calculate co-rated items between users\n",
    "    # C = dict()\n",
    "    users_dict = {u: 0 for u in users}\n",
    "    C = defaultdict(lambda : users_dict)\n",
    "    # C = np.zeros((len(item_users), len(item_users)))\n",
    "    # user items list\n",
    "    N = defaultdict(int)\n",
    "    print('共现矩阵计算')\n",
    "    for i, users in tqdm_notebook(item_users.items()):\n",
    "        for u in users:\n",
    "            N[u] += 1\n",
    "            for v in users:\n",
    "                if u == v:\n",
    "                    continue\n",
    "                C[u][v] += 1\n",
    "    #calculate finial similarity matrix W\n",
    "    W = dict()\n",
    "    print('相似矩阵计算')\n",
    "    for u, related_users in tqdm_notebook(C.items()):\n",
    "        for v, cuv in related_users.items():\n",
    "            W[u][v] = cuv / math.sqrt(N[u] * N[v])\n",
    "    return W\n",
    "s = time.perf_counter()\n",
    "W = UserSimilarity(item_users, users)\n",
    "print('cost time %s min' % ((time.perf_counter() - s) / 60))"
   ]
  },
  {
   "cell_type": "code",
   "execution_count": null,
   "metadata": {},
   "outputs": [],
   "source": []
  }
 ],
 "metadata": {
  "kernelspec": {
   "display_name": "Python 3",
   "language": "python",
   "name": "python3"
  }
 },
 "nbformat": 4,
 "nbformat_minor": 2
}
