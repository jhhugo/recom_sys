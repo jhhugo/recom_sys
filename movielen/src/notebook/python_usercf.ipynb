{
 "cells": [
  {
   "cell_type": "code",
   "execution_count": 145,
   "metadata": {},
   "outputs": [],
   "source": [
    "data = pd.read_csv(r'E:\\ML_study\\学习笔记\\推荐\\movielens\\ml-20m\\ratings_small.csv', engine='python')\n",
    "data = data.sample(frac=1)"
   ]
  },
  {
   "cell_type": "code",
   "execution_count": 150,
   "metadata": {},
   "outputs": [],
   "source": [
    "train = data[:3500]\n",
    "test = data[3500:]"
   ]
  },
  {
   "cell_type": "code",
   "execution_count": 154,
   "metadata": {},
   "outputs": [],
   "source": [
    "train.to_csv(r'E:\\ML_study\\学习笔记\\推荐\\movielens\\ml-20m\\ratings_train.csv', encoding='utf-8', index=False)\n",
    "test.to_csv(r'E:\\ML_study\\学习笔记\\推荐\\movielens\\ml-20m\\ratings_test.csv', encoding='utf-8', index=False)"
   ]
  },
  {
   "cell_type": "code",
   "execution_count": 1,
   "metadata": {},
   "outputs": [
    {
     "name": "stdout",
     "output_type": "stream",
     "text": [
      "cost time 0.0017224516666666666 min\n"
     ]
    }
   ],
   "source": [
    "from collections import defaultdict\n",
    "import time\n",
    "import gc\n",
    "import pandas as pd\n",
    "import numpy as np\n",
    "\n",
    "from tqdm import tqdm\n",
    "\n",
    "s = time.perf_counter()\n",
    "train = pd.read_csv(r'E:\\ML_study\\学习笔记\\推荐\\movielens\\ml-20m\\ratings_train.csv', engine='python')\n",
    "test = pd.read_csv(r'E:\\ML_study\\学习笔记\\推荐\\movielens\\ml-20m\\ratings_test.csv', engine='python')\n",
    "\n",
    "def combine(data):\n",
    "    item_users = dict()\n",
    "    user_items = dict()\n",
    "    users = set()\n",
    "    data['userId'] = 'user_' + data['userId'].astype(str)\n",
    "    data['movieId'] = 'movie_' + data['movieId'].astype(str)\n",
    "    for u, item, r in data[['userId', 'movieId', 'rating']].values:\n",
    "        item_users.setdefault(item, []).append((u, r))\n",
    "        user_items.setdefault(u, []).append((item, r))\n",
    "        users.add(u)\n",
    "    del data\n",
    "    gc.collect()\n",
    "    return item_users, user_items, users\n",
    "\n",
    "train_item_users, train_user_items, train_users = combine(train)\n",
    "test_item_users, test_user_items, test_users = combine(test)\n",
    "print('cost time %s min' % ((time.perf_counter() - s) / 60))"
   ]
  },
  {
   "cell_type": "code",
   "execution_count": 98,
   "metadata": {},
   "outputs": [],
   "source": [
    "# from joblib import dump, load\n",
    "# dump(item_users, r'D:\\Users\\hao.guo\\比赛代码提炼\\推荐系统\\movielen\\data\\item_users.pkl')\n",
    "# dump(users, r'D:\\Users\\hao.guo\\比赛代码提炼\\推荐系统\\movielen\\data\\users.pkl')"
   ]
  },
  {
   "cell_type": "code",
   "execution_count": 2,
   "metadata": {},
   "outputs": [
    {
     "name": "stdout",
     "output_type": "stream",
     "text": [
      "共现矩阵计算\n"
     ]
    },
    {
     "name": "stderr",
     "output_type": "stream",
     "text": [
      "100%|███████████████████████████████████████████████████████████████████████████| 1694/1694 [00:00<00:00, 49970.12it/s]\n"
     ]
    },
    {
     "name": "stdout",
     "output_type": "stream",
     "text": [
      "相似矩阵计算\n"
     ]
    },
    {
     "name": "stderr",
     "output_type": "stream",
     "text": [
      "100%|███████████████████████████████████████████████████████████████████████████████| 50/50 [00:00<00:00, 16682.46it/s]\n"
     ]
    },
    {
     "name": "stdout",
     "output_type": "stream",
     "text": [
      "cost time 0.0009028316666666628 min\n"
     ]
    }
   ],
   "source": [
    "import math\n",
    "from tqdm import tqdm_notebook\n",
    "def UserSimilarity(item_users, users):\n",
    "    # build inverse table for item_users\n",
    "#     item_users = dict()\n",
    "#     users = set()\n",
    "#     for u, items in data.items():\n",
    "#         for i in items.keys():\n",
    "#             # if i not in item_users:\n",
    "#             #     item_users[i] = set()\n",
    "#             item_users.setdefault(i, set()).add(u)\n",
    "#         users.add(u)\n",
    "    #calculate co-rated items between users\n",
    "    # C = dict()\n",
    "    C = defaultdict(dict)\n",
    "    # C = np.zeros((len(item_users), len(item_users)))\n",
    "    # user items list\n",
    "    N = defaultdict(int)\n",
    "    print('共现矩阵计算')\n",
    "    for i, pairs in tqdm(item_users.items()):\n",
    "        for u, r1 in pairs:\n",
    "            N[u] += r1 ** 2\n",
    "            for v, r2 in pairs:\n",
    "                if u == v:\n",
    "                    continue\n",
    "                if v not in list(C[u]):\n",
    "                    C[u][v] = 0\n",
    "                C[u][v] += r1 * r2\n",
    "    #calculate finial similarity matrix W\n",
    "    W = defaultdict(dict)\n",
    "    print('相似矩阵计算')\n",
    "    for u, related_users in tqdm(C.items()):\n",
    "        for v, cuv in related_users.items():\n",
    "            W[u][v] = cuv / math.sqrt(N[u] * N[v])\n",
    "    return W\n",
    "s = time.perf_counter()\n",
    "W = UserSimilarity(train_item_users, train_users)\n",
    "print('cost time %s min' % ((time.perf_counter() - s) / 60))"
   ]
  },
  {
   "cell_type": "code",
   "execution_count": 10,
   "metadata": {},
   "outputs": [
    {
     "name": "stdout",
     "output_type": "stream",
     "text": [
      "(0.0048, 0.008005336891260841, 0.02715466351829988, 1.6236272299588879)\n",
      "(0.0128, 0.02134756504336224, 0.02833530106257379, 1.624718973771883)\n",
      "(0.0196, 0.03268845897264843, 0.028925619834710745, 1.6274730932508432)\n",
      "(0.0248, 0.04136090727151434, 0.028925619834710745, 1.6056153223105636)\n",
      "(0.0288, 0.04803202134756504, 0.028925619834710745, 1.5735711135252997)\n",
      "(0.0304, 0.050700466977985324, 0.028925619834710745, 1.556790649912706)\n"
     ]
    }
   ],
   "source": [
    "def Recommend(user, train, W, K):\n",
    "    rank = defaultdict(int)\n",
    "    interacted_items = list(map(lambda p: p[0], train[user]))\n",
    "    for v, wuv in sorted(W[user].items(), key=lambda p: p[1], reverse=True)[0:K]:\n",
    "        for i, rvi in train[v]:\n",
    "            if i in interacted_items:\n",
    "            #we should filter items user interacted before\n",
    "                continue\n",
    "        rank[i] += wuv * rvi\n",
    "    return sorted(rank.items(), key=lambda p: p[0], reverse=True)[:50]\n",
    "\n",
    "def Precision(train, test, W, N):\n",
    "    hit = 0\n",
    "    all = 0\n",
    "    for user in train.keys():\n",
    "        tu = list(map(lambda p: p[0], test[user]))\n",
    "        rank = Recommend(user, train, W, N)\n",
    "        for item, pui in rank:\n",
    "            if item in tu:\n",
    "                hit += 1\n",
    "        all += 50\n",
    "    return hit / (all * 1.0)\n",
    "\n",
    "def Recall(train, test, W, N):\n",
    "    hit = 0\n",
    "    all = 0\n",
    "    for user in train.keys():\n",
    "        tu = list(map(lambda p: p[0], test[user]))\n",
    "        rank = Recommend(user, train, W, N)\n",
    "        for item, pui in rank:\n",
    "            if item in tu:\n",
    "                hit += 1\n",
    "        all += len(tu)\n",
    "    return hit / (all * 1.0)\n",
    "\n",
    "def Coverage(train, test, W, N):\n",
    "    recommend_items = set()\n",
    "    all_items = set()\n",
    "    for user in train.keys():\n",
    "        for item, r in train[user]:\n",
    "            all_items.add(item)\n",
    "        rank = Recommend(user, train, W, N)\n",
    "        for item, pui in rank:\n",
    "            recommend_items.add(item)\n",
    "    return len(recommend_items) / (len(all_items) * 1.0)\n",
    "\n",
    "def Popularity(train, test, W, N):\n",
    "    item_popularity = dict()\n",
    "    for user, items in train.items():\n",
    "        for item, r in items:\n",
    "            if item not in item_popularity:\n",
    "                item_popularity[item] = 0\n",
    "            item_popularity[item] += 1\n",
    "    ret = 0\n",
    "    n = 0\n",
    "    for user in train.keys():\n",
    "        rank = Recommend(user, train, W, N)\n",
    "        for item, pui in rank:\n",
    "            ret += np.log(1 + item_popularity[item])\n",
    "            n += 1\n",
    "    ret /= n * 1.0\n",
    "    return ret \n",
    "\n",
    "def eval(train_user_items, test_user_items, W, N):\n",
    "    p = Precision(train_user_items, test_user_items, W, N)\n",
    "    r = Recall(train_user_items, test_user_items, W, N)\n",
    "    c = Coverage(train_user_items, test_user_items, W, N)\n",
    "    pop = Popularity(train_user_items, test_user_items, W, N)\n",
    "    return (p, r, c, pop)\n",
    "    \n",
    "print(eval(train_user_items, test_user_items, W, 5))\n",
    "print(eval(train_user_items, test_user_items, W, 10))\n",
    "print(eval(train_user_items, test_user_items, W, 20))\n",
    "print(eval(train_user_items, test_user_items, W, 30))\n",
    "print(eval(train_user_items, test_user_items, W, 40))\n",
    "print(eval(train_user_items, test_user_items, W, 50))"
   ]
  },
  {
   "cell_type": "code",
   "execution_count": 164,
   "metadata": {},
   "outputs": [
    {
     "data": {
      "text/plain": [
       "defaultdict(int,\n",
       "            {'movie_1411': 0.5791108618080074,\n",
       "             'movie_2093': 0.9568347360147121,\n",
       "             'movie_3147': 0.7390869705076952,\n",
       "             'movie_34': 0.5389405115000754,\n",
       "             'movie_292': 0.41401278942708564})"
      ]
     },
     "execution_count": 164,
     "metadata": {},
     "output_type": "execute_result"
    }
   ],
   "source": [
    "Recommend('user_1', train_user_items, W, 5)"
   ]
  },
  {
   "cell_type": "code",
   "execution_count": 167,
   "metadata": {},
   "outputs": [
    {
     "data": {
      "text/plain": [
       "[('movie_2253', 3.5),\n",
       " ('movie_2683', 3.5),\n",
       " ('movie_2542', 4.0),\n",
       " ('movie_2644', 3.5),\n",
       " ('movie_1750', 3.5),\n",
       " ('movie_3499', 4.0),\n",
       " ('movie_2174', 4.0),\n",
       " ('movie_5952', 5.0),\n",
       " ('movie_6755', 3.5),\n",
       " ('movie_4128', 4.0),\n",
       " ('movie_6754', 4.0),\n",
       " ('movie_2193', 4.0),\n",
       " ('movie_2', 3.5),\n",
       " ('movie_2173', 4.0),\n",
       " ('movie_1089', 3.5),\n",
       " ('movie_7482', 3.0),\n",
       " ('movie_260', 4.0),\n",
       " ('movie_2762', 4.0),\n",
       " ('movie_2761', 3.0),\n",
       " ('movie_4911', 4.0),\n",
       " ('movie_7045', 3.5),\n",
       " ('movie_4226', 3.5),\n",
       " ('movie_6333', 4.0),\n",
       " ('movie_1243', 3.0),\n",
       " ('movie_1259', 4.0),\n",
       " ('movie_2118', 4.0),\n",
       " ('movie_2804', 3.5),\n",
       " ('movie_32', 3.5),\n",
       " ('movie_7454', 4.0),\n",
       " ('movie_5999', 3.5),\n",
       " ('movie_5146', 3.5),\n",
       " ('movie_4878', 3.5),\n",
       " ('movie_1350', 3.5),\n",
       " ('movie_1370', 3.0),\n",
       " ('movie_1200', 4.0),\n",
       " ('movie_4896', 4.0),\n",
       " ('movie_3153', 4.0),\n",
       " ('movie_3081', 4.0),\n",
       " ('movie_2194', 3.5),\n",
       " ('movie_367', 3.5),\n",
       " ('movie_3996', 4.0),\n",
       " ('movie_8961', 4.0),\n",
       " ('movie_253', 4.0),\n",
       " ('movie_3479', 4.0),\n",
       " ('movie_2628', 4.0),\n",
       " ('movie_3438', 3.5),\n",
       " ('movie_2918', 3.5),\n",
       " ('movie_29', 3.5),\n",
       " ('movie_318', 4.0),\n",
       " ('movie_337', 3.5),\n",
       " ('movie_7001', 3.5),\n",
       " ('movie_8482', 3.5),\n",
       " ('movie_5026', 4.0),\n",
       " ('movie_1997', 3.5),\n",
       " ('movie_50', 3.5),\n",
       " ('movie_3476', 3.5),\n",
       " ('movie_3889', 4.0),\n",
       " ('movie_6888', 3.0),\n",
       " ('movie_1304', 3.0),\n",
       " ('movie_1249', 4.0),\n",
       " ('movie_5898', 3.5),\n",
       " ('movie_1208', 3.5),\n",
       " ('movie_2947', 3.5),\n",
       " ('movie_7757', 4.0),\n",
       " ('movie_4915', 3.0),\n",
       " ('movie_1584', 3.5),\n",
       " ('movie_151', 4.0),\n",
       " ('movie_6502', 3.5),\n",
       " ('movie_1358', 4.0),\n",
       " ('movie_2664', 3.5),\n",
       " ('movie_2968', 4.0),\n",
       " ('movie_1291', 3.5),\n",
       " ('movie_1219', 4.0),\n",
       " ('movie_1196', 4.5),\n",
       " ('movie_1266', 4.0),\n",
       " ('movie_4467', 4.0),\n",
       " ('movie_1240', 4.0),\n",
       " ('movie_2100', 4.0),\n",
       " ('movie_3932', 3.0),\n",
       " ('movie_3489', 4.0),\n",
       " ('movie_1258', 4.0),\n",
       " ('movie_6093', 4.0),\n",
       " ('movie_8636', 4.5),\n",
       " ('movie_31696', 4.0),\n",
       " ('movie_3037', 3.5),\n",
       " ('movie_2143', 4.0),\n",
       " ('movie_1262', 3.5),\n",
       " ('movie_7046', 4.0),\n",
       " ('movie_1920', 3.5),\n",
       " ('movie_924', 3.5),\n",
       " ('movie_1246', 3.5),\n",
       " ('movie_223', 4.0),\n",
       " ('movie_7164', 3.5),\n",
       " ('movie_1009', 3.5),\n",
       " ('movie_4011', 4.0),\n",
       " ('movie_5171', 4.0),\n",
       " ('movie_7247', 3.5),\n",
       " ('movie_47', 3.5),\n",
       " ('movie_1374', 4.0),\n",
       " ('movie_7389', 4.0),\n",
       " ('movie_5540', 4.0),\n",
       " ('movie_1217', 3.5),\n",
       " ('movie_6834', 3.5),\n",
       " ('movie_1525', 3.0),\n",
       " ('movie_1994', 3.5),\n",
       " ('movie_1387', 4.0),\n",
       " ('movie_541', 4.0),\n",
       " ('movie_6774', 4.0),\n",
       " ('movie_5039', 4.0),\n",
       " ('movie_7387', 3.5),\n",
       " ('movie_1278', 4.0),\n",
       " ('movie_8690', 3.5),\n",
       " ('movie_4571', 4.0),\n",
       " ('movie_2648', 3.5),\n",
       " ('movie_7438', 4.0),\n",
       " ('movie_1193', 3.5),\n",
       " ('movie_4133', 3.0),\n",
       " ('movie_589', 3.5),\n",
       " ('movie_8507', 5.0),\n",
       " ('movie_5797', 4.0),\n",
       " ('movie_4306', 4.0),\n",
       " ('movie_6807', 3.5),\n",
       " ('movie_1321', 4.0),\n",
       " ('movie_4993', 5.0),\n",
       " ('movie_4980', 3.5),\n",
       " ('movie_1201', 3.0)]"
      ]
     },
     "execution_count": 167,
     "metadata": {},
     "output_type": "execute_result"
    }
   ],
   "source": [
    "train_user_items['user_1']"
   ]
  },
  {
   "cell_type": "code",
   "execution_count": null,
   "metadata": {},
   "outputs": [],
   "source": []
  }
 ],
 "metadata": {
  "kernelspec": {
   "display_name": "Python 3",
   "language": "python",
   "name": "python3"
  },
  "language_info": {
   "codemirror_mode": {
    "name": "ipython",
    "version": 3
   },
   "file_extension": ".py",
   "mimetype": "text/x-python",
   "name": "python",
   "nbconvert_exporter": "python",
   "pygments_lexer": "ipython3",
   "version": "3.6.5"
  }
 },
 "nbformat": 4,
 "nbformat_minor": 2
}
